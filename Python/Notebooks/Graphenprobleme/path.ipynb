{
 "cells": [
  {
   "cell_type": "markdown",
   "metadata": {},
   "source": [
    "# Den kürzesten Pfad finden\n",
    "\n",
    "- in einem ungewichteten Pfad ist der kürzeste Pfad derjenige mit den wenigsten Kanten zwischen Start und Ziel Knoten\n",
    "- wiederverwendung der Breitensuche (bfs) aus Suche"
   ]
  },
  {
   "cell_type": "code",
   "execution_count": 1,
   "metadata": {},
   "outputs": [],
   "source": [
    "# BFS aus Suche für city_graph wiederverwerden\n",
    "import sys\n",
    "sys.path.insert(0, '..')\n",
    "from Suche.genericSearch import bfs, Node, node_to_path"
   ]
  }
 ],
 "metadata": {
  "kernelspec": {
   "display_name": "Python 3.9.2 64-bit",
   "language": "python",
   "name": "python3"
  },
  "language_info": {
   "codemirror_mode": {
    "name": "ipython",
    "version": 3
   },
   "file_extension": ".py",
   "mimetype": "text/x-python",
   "name": "python",
   "nbconvert_exporter": "python",
   "pygments_lexer": "ipython3",
   "version": "3.9.2"
  },
  "orig_nbformat": 4,
  "vscode": {
   "interpreter": {
    "hash": "916dbcbb3f70747c44a77c7bcd40155683ae19c65e1c03b4aa3499c5328201f1"
   }
  }
 },
 "nbformat": 4,
 "nbformat_minor": 2
}

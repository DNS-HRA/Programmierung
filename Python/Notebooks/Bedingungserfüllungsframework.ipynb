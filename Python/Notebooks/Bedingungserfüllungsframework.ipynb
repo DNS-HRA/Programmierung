{
 "cells": [
  {
   "cell_type": "markdown",
   "metadata": {},
   "source": [
    "# Bedingungserfüllungsprobleme\n",
    "- Englisch: Constraint-Satisfaction-Problems [Kurz: CSPs]\n",
    "- bestehen aus:\n",
    "    - Variablen\n",
    "    - Domänen (Wertebereiche für Variablen)\n",
    "    - Bedingungen zwischen Variablen\n",
    "        - müssen erfüllt sein um das Problem zu lösen\n",
    "- Beispiel:\n",
    "    - Freitagsmeeting für 3 Personen planen\n",
    "    - 3 Personen als Variablen\n",
    "        - Joe\n",
    "        - Mary\n",
    "        - Sue\n",
    "    - Die Domäne ist die Verfügbarkeit der 3 Personen\n",
    "        - z.B.: für Mary: 14, 15, 16 Uhr\n",
    "    - 2 Bedingungen:\n",
    "        1. Sue muss teilnehmen\n",
    "        2. mind. 2 Personen müssen teilnehmen\n",
    "---"
   ]
  },
  {
   "cell_type": "markdown",
   "metadata": {},
   "source": [
    "## Framework für Bedingungserfüllungsprobleme\n",
    "- Bedingungen werden mit einer Constraint Klasse definiert\n",
    "- Jede Bedingung besteht aus den Variablen für die sie Bedingungen setzen\n",
    "- Methode \"erfüllt\" überprüft ob die Bedingung erfüllt ist\n",
    "- Hauptlogik: \n",
    "    - Prüfung ob eine Bedingung erfüllt ist"
   ]
  },
  {
   "cell_type": "code",
   "execution_count": null,
   "metadata": {},
   "outputs": [],
   "source": [
    "from typing import Generic, TypeVar, Dict, List, Optional\n",
    "from abc import ABC, abstractmethod\n",
    "\n",
    "V = TypeVar('V') # Variablentyp\n",
    "D = TypeVar('D') # Domänentyp\n",
    "\n",
    "# Basisklasse für alle Bedingungen\n",
    "class Constraint(Generic[V, D], ABC):\n",
    "    def __init__(self, variables: List[V]) -> None:\n",
    "        self.variables = variables\n",
    "    # muss von Unterklassen überschrieben werden!\n",
    "    @abstractmethod\n",
    "    def satisfied(self, assignment: Dict[V, D]) -> bool:\n",
    "        pass"
   ]
  },
  {
   "cell_type": "markdown",
   "metadata": {},
   "source": [
    "- Abstrakte Basisklasseen dienen als Vorlagen für Klassenhierarchie\n",
    "- nur für Frameworks nicht für Klassenhirarchie gedacht in Python!"
   ]
  },
  {
   "cell_type": "code",
   "execution_count": null,
   "metadata": {},
   "outputs": [],
   "source": [
    "class CSP(Generic[V, D]):\n",
    "    def __init__(self, variables: List[V], domains: Dict[V, List[D]]) -> None:\n",
    "        self.variables: List[V] = variables\n",
    "        self.domains: Dict[V, List[D]] = domains\n",
    "        self.constraints: Dict[V, List[Constraint[V, D]]] = {}\n",
    "        for variable in self.variables:\n",
    "            self.constraints[variable] = []\n",
    "            if variable not in self.domains:\n",
    "                raise LookupError(\"Jeder Variablen sollte einer Domäne zugewiesen sein.\")\n",
    "    def add_constraint(self, constraint: Constraint[V, D]) -> None:\n",
    "        for variable in constraint.variables:\n",
    "            if variable not in self.variables:\n",
    "                raise LookupError(\"Jeder Variable in Bedingung nicht in CSP.\")\n",
    "            else:\n",
    "                self.constrains[variable].append(constraint)\n",
    "    def consistent(self, variable: V, assignment: Dict[V, D]) -> bool:\n",
    "        for constraint in self.constraints[variable]:\n",
    "            if not constraint.satisfied(assignment):\n",
    "                return False\n",
    "        return True"
   ]
  }
 ],
 "metadata": {
  "language_info": {
   "name": "python"
  },
  "orig_nbformat": 4
 },
 "nbformat": 4,
 "nbformat_minor": 2
}

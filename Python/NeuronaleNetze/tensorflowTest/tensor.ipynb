{
 "cells": [
  {
   "cell_type": "markdown",
   "source": [
    "# Tensor"
   ],
   "metadata": {
    "collapsed": false,
    "pycharm": {
     "name": "#%% md\n"
    }
   }
  },
  {
   "cell_type": "markdown",
   "source": [
    "## Import Tensorflow"
   ],
   "metadata": {
    "collapsed": false,
    "pycharm": {
     "name": "#%% md\n"
    }
   }
  },
  {
   "cell_type": "code",
   "execution_count": 5,
   "outputs": [],
   "source": [
    "import tensorflow as tf"
   ],
   "metadata": {
    "collapsed": false,
    "pycharm": {
     "name": "#%%\n"
    }
   }
  },
  {
   "cell_type": "markdown",
   "source": [
    "## 0D-Tensor\n",
    "- auch Skalar genannt"
   ],
   "metadata": {
    "collapsed": false,
    "pycharm": {
     "name": "#%% md\n"
    }
   }
  },
  {
   "cell_type": "code",
   "execution_count": 6,
   "outputs": [],
   "source": [
    "my_scalar = tf.constant(1, name=\"mein Skalar\")"
   ],
   "metadata": {
    "collapsed": false,
    "pycharm": {
     "name": "#%%\n"
    }
   }
  },
  {
   "cell_type": "markdown",
   "source": [
    "### Ausgabe des Skalars\n",
    "- Zeigt nur die Daten innerhalb des 0D-Tensor an"
   ],
   "metadata": {
    "collapsed": false,
    "pycharm": {
     "name": "#%% md\n"
    }
   }
  },
  {
   "cell_type": "code",
   "execution_count": 7,
   "outputs": [
    {
     "name": "stdout",
     "output_type": "stream",
     "text": [
      "1\r\n"
     ]
    }
   ],
   "source": [
    "tf.print(my_scalar)"
   ],
   "metadata": {
    "collapsed": false,
    "pycharm": {
     "name": "#%%\n"
    }
   }
  },
  {
   "cell_type": "markdown",
   "source": [
    "#### mehr Daten über Skalar\n",
    "- Zeigt relevante Informationen zum Tensor an"
   ],
   "metadata": {
    "collapsed": false,
    "pycharm": {
     "name": "#%% md\n"
    }
   }
  },
  {
   "cell_type": "code",
   "execution_count": 8,
   "outputs": [
    {
     "name": "stdout",
     "output_type": "stream",
     "text": [
      "tf.Tensor(1, shape=(), dtype=int32)\n"
     ]
    }
   ],
   "source": [
    "print(my_scalar)"
   ],
   "metadata": {
    "collapsed": false,
    "pycharm": {
     "name": "#%%\n"
    }
   }
  },
  {
   "cell_type": "markdown",
   "source": [
    "## 1D Tensor\n",
    "- kann Einzelwertreihenfolgen speichern"
   ],
   "metadata": {
    "collapsed": false,
    "pycharm": {
     "name": "#%% md\n"
    }
   }
  },
  {
   "cell_type": "code",
   "execution_count": 9,
   "outputs": [
    {
     "name": "stdout",
     "output_type": "stream",
     "text": [
      "tf.Tensor([1 2 3 4], shape=(4,), dtype=int32)\n",
      "tf.Tensor([b'Hallo' b'Welt' b'dies' b'ist' b'ein 1D-Tensor!'], shape=(5,), dtype=string)\n"
     ]
    }
   ],
   "source": [
    "tensor_1d = tf.constant([1,2,3,4])\n",
    "print(tensor_1d)\n",
    "tensor_1d_with_strings = tf.constant([\"Hallo\", \"Welt\", \"dies\", \"ist\", \"ein 1D-Tensor!\"])\n",
    "print(tensor_1d_with_strings)"
   ],
   "metadata": {
    "collapsed": false,
    "pycharm": {
     "name": "#%%\n"
    }
   }
  },
  {
   "cell_type": "markdown",
   "source": [
    "### Alternative Aufgabe"
   ],
   "metadata": {
    "collapsed": false,
    "pycharm": {
     "name": "#%% md\n"
    }
   }
  },
  {
   "cell_type": "code",
   "execution_count": 10,
   "outputs": [
    {
     "name": "stdout",
     "output_type": "stream",
     "text": [
      "[1 2 3 4]\r\n",
      "[\"Hallo\" \"Welt\" \"dies\" \"ist\" \"ein 1D-Tensor!\"]\r\n"
     ]
    }
   ],
   "source": [
    "tf.print(tensor_1d)\n",
    "tf.print(tensor_1d_with_strings)"
   ],
   "metadata": {
    "collapsed": false,
    "pycharm": {
     "name": "#%%\n"
    }
   }
  },
  {
   "cell_type": "markdown",
   "source": [
    "## 2D Tensor\n",
    "- auch Matrix genannt\n",
    "- kann indizierte (mehrspaltige) Einträge speichern"
   ],
   "metadata": {
    "collapsed": false,
    "pycharm": {
     "name": "#%% md\n"
    }
   }
  },
  {
   "cell_type": "code",
   "execution_count": 11,
   "outputs": [
    {
     "name": "stdout",
     "output_type": "stream",
     "text": [
      "tf.Tensor(\n",
      "[[1 2]\n",
      " [3 4]\n",
      " [5 6]], shape=(3, 2), dtype=int32)\n",
      "tf.Tensor(\n",
      "[[b'Petra' b'Schmitt']\n",
      " [b'Max' b'Mustermann']\n",
      " [b'John' b'Doe']], shape=(3, 2), dtype=string)\n"
     ]
    }
   ],
   "source": [
    "tensor_2d = tf.constant([[1, 2], [3, 4], [5, 6]])\n",
    "print(tensor_2d)\n",
    "tensor_2d_with_strings = tf.constant([[\"Petra\", \"Schmitt\"], [\"Max\", \"Mustermann\"], [\"John\", \"Doe\"]])\n",
    "print(tensor_2d_with_strings)"
   ],
   "metadata": {
    "collapsed": false,
    "pycharm": {
     "name": "#%%\n"
    }
   }
  },
  {
   "cell_type": "markdown",
   "source": [
    "### Alternative Ausgabe"
   ],
   "metadata": {
    "collapsed": false,
    "pycharm": {
     "name": "#%% md\n"
    }
   }
  },
  {
   "cell_type": "code",
   "execution_count": 12,
   "outputs": [
    {
     "name": "stdout",
     "output_type": "stream",
     "text": [
      "[[1 2]\n",
      " [3 4]\n",
      " [5 6]]\r\n",
      "[[\"Petra\" \"Schmitt\"]\n",
      " [\"Max\" \"Mustermann\"]\n",
      " [\"John\" \"Doe\"]]\r\n"
     ]
    }
   ],
   "source": [
    "tf.print(tensor_2d)\n",
    "tf.print(tensor_2d_with_strings)"
   ],
   "metadata": {
    "collapsed": false,
    "pycharm": {
     "name": "#%%\n"
    }
   }
  },
  {
   "cell_type": "markdown",
   "source": [
    "## 3D-Tensor"
   ],
   "metadata": {
    "collapsed": false,
    "pycharm": {
     "name": "#%% md\n"
    }
   }
  },
  {
   "cell_type": "code",
   "execution_count": 13,
   "outputs": [
    {
     "name": "stdout",
     "output_type": "stream",
     "text": [
      "3\r\n"
     ]
    }
   ],
   "source": [
    "tensor_3d = tf.constant([\n",
    "    [[1,4], [3,8]],\n",
    "    [[5,7], [9,3]]\n",
    "])\n",
    "tf.print(tf.rank(tensor_3d)) #  tf.rank gibt die Ordnung des Tensors wieder(1, 2, 3 oder 4D Tensor)"
   ],
   "metadata": {
    "collapsed": false,
    "pycharm": {
     "name": "#%%\n"
    }
   }
  },
  {
   "cell_type": "markdown",
   "source": [
    "## 4D-Tensor\n",
    "- z.B. ein Video\n",
    "- Reihenfolge von Bildern (3D-Tensor)"
   ],
   "metadata": {
    "collapsed": false,
    "pycharm": {
     "name": "#%% md\n"
    }
   }
  },
  {
   "cell_type": "markdown",
   "source": [
    "## Numpy Strukturen in Tensorflow"
   ],
   "metadata": {
    "collapsed": false,
    "pycharm": {
     "name": "#%% md\n"
    }
   }
  },
  {
   "cell_type": "code",
   "execution_count": 19,
   "outputs": [
    {
     "name": "stdout",
     "output_type": "stream",
     "text": [
      "Eine Numpy-Struktur kann in einen Tensor umgewandelt werden: tf.Tensor([0.  0.5 1.  1.5 2.  2.5 3.  3.5 4.  4.5], shape=(10,), dtype=float64)\n",
      "und wieder zurück in eine NumPy-Struktur: [0.  0.5 1.  1.5 2.  2.5 3.  3.5 4.  4.5]\n"
     ]
    }
   ],
   "source": [
    "import numpy as np\n",
    "\n",
    "np_array = np.arange(0, 5, step=0.5)\n",
    "tensor_from_numpy = tf.constant(np_array, name=\"converted\")\n",
    "print(\"Eine Numpy-Struktur kann in einen Tensor umgewandelt werden:\", tensor_from_numpy)\n",
    "\n",
    "print(\"und wieder zurück in eine NumPy-Struktur:\", tensor_from_numpy.numpy())"
   ],
   "metadata": {
    "collapsed": false,
    "pycharm": {
     "name": "#%%\n"
    }
   }
  }
 ],
 "metadata": {
  "kernelspec": {
   "display_name": "Python 3",
   "language": "python",
   "name": "python3"
  },
  "language_info": {
   "codemirror_mode": {
    "name": "ipython",
    "version": 2
   },
   "file_extension": ".py",
   "mimetype": "text/x-python",
   "name": "python",
   "nbconvert_exporter": "python",
   "pygments_lexer": "ipython2",
   "version": "2.7.6"
  }
 },
 "nbformat": 4,
 "nbformat_minor": 0
}
{
 "cells": [
  {
   "cell_type": "markdown",
   "source": [
    "# Gewichtete Kanten\n",
    "- wird benötigt um die \"Entfernung\" von zwei Knoten zueinander darzustellen"
   ],
   "metadata": {
    "collapsed": false,
    "pycharm": {
     "name": "#%% md\n"
    }
   }
  },
  {
   "cell_type": "code",
   "execution_count": null,
   "metadata": {
    "collapsed": true,
    "pycharm": {
     "name": "#%%\n"
    }
   },
   "outputs": [],
   "source": [
    "from __future__ import annotations\n",
    "from dataclasses import dataclass\n",
    "from edge import Edge\n",
    "\n",
    "@dataclass\n",
    "class WeightedEdge(Edge):\n",
    "    weight: float\n",
    "    def reversed(self) -> WeightedEdge:\n",
    "        return WeightedEdge(self.v, self.u, self.weight)\n",
    "    # Kanten nach Gewicht ordnen\n",
    "    def __lt__(self, other: WeightedEdge) -> bool:\n",
    "        return self.weight < other.weight\n",
    "    def __str__(self) -> str:\n",
    "        return f\"{self.u} {self.weight} {self.v}\""
   ]
  }
 ],
 "metadata": {
  "kernelspec": {
   "display_name": "Python 3",
   "language": "python",
   "name": "python3"
  },
  "language_info": {
   "codemirror_mode": {
    "name": "ipython",
    "version": 2
   },
   "file_extension": ".py",
   "mimetype": "text/x-python",
   "name": "python",
   "nbconvert_exporter": "python",
   "pygments_lexer": "ipython2",
   "version": "2.7.6"
  }
 },
 "nbformat": 4,
 "nbformat_minor": 0
}
{
 "cells": [
  {
   "attachments": {},
   "cell_type": "markdown",
   "metadata": {
    "dotnet_interactive": {
     "language": "pwsh"
    },
    "polyglot_notebook": {
     "kernelName": "pwsh"
    }
   },
   "source": [
    "# Deinstallation von Windows Updates\n",
    "\n",
    "## 0. Transkript\n",
    "- Jedes Script der DNS schreibt ein Transkript in das C:\\TEMP verzeichnis mit dem Namen des Scripts\n",
    "- Vgl. Standard Script Dokument\n",
    "\n"
   ]
  },
  {
   "cell_type": "code",
   "execution_count": 6,
   "metadata": {
    "dotnet_interactive": {
     "language": "pwsh"
    },
    "polyglot_notebook": {
     "kernelName": "pwsh"
    },
    "vscode": {
     "languageId": "polyglot-notebook"
    }
   },
   "outputs": [
    {
     "name": "stdout",
     "output_type": "stream",
     "text": [
      "Transcript started, output file is C:\\TEMP\\UpdateDeinstallation.log\r\n"
     ]
    }
   ],
   "source": [
    "Start-Transcript -Path C:\\TEMP\\UpdateDeinstallation.log"
   ]
  },
  {
   "attachments": {},
   "cell_type": "markdown",
   "metadata": {
    "dotnet_interactive": {
     "language": "pwsh"
    },
    "polyglot_notebook": {
     "kernelName": "pwsh"
    }
   },
   "source": [
    "## 1. Prüfung welches Update installiert ist\n",
    "- Ein Update hat immer mehrere KB Nummern je nach Betriebssystem\n",
    "- Zuerst muss je nach Betriebssystem das jeweilige Update aufgelistet werden\n",
    "- Anschließend wird geprüft welches der Angegebenen Updates installiert ist"
   ]
  },
  {
   "cell_type": "code",
   "execution_count": 7,
   "metadata": {
    "dotnet_interactive": {
     "language": "pwsh"
    },
    "polyglot_notebook": {
     "kernelName": "pwsh"
    },
    "vscode": {
     "languageId": "polyglot-notebook"
    }
   },
   "outputs": [
    {
     "name": "stdout",
     "output_type": "stream",
     "text": [
      "\n",
      "\u001b[32;1mSource        Description      HotFixID      InstalledBy          InstalledOn\u001b[0m\n",
      "\u001b[32;1m------        -----------      --------      -----------          -----------\u001b[0m\n",
      "HENRY-DESKTOP Update           KB5020880     NT-AUTORITÄT\\SYSTEM  18.12.2022 00:00:00\n",
      "\n"
     ]
    }
   ],
   "source": [
    "# Updates je nach Betriebssystem auflisten\n",
    "$Updates =  'KB4012598', # WS 2022\n",
    "            'KB5020874', # WS 2019\n",
    "            'KB5020873', # WS 2016\n",
    "            'KB5021093', # WS 2012R2\n",
    "            'KB5020880', # Windows 11 22H2\n",
    "            'KB5020875', # Windows 11 21H2\n",
    "            'KB5021089' # Windows 10\n",
    "\n",
    "# Prüfung welches Update installiert ist\n",
    "$installiertesUpdate = Get-HotFix -Id $Updates -ErrorAction SilentlyContinue\n",
    "$installiertesUpdate"
   ]
  },
  {
   "attachments": {},
   "cell_type": "markdown",
   "metadata": {
    "dotnet_interactive": {
     "language": "pwsh"
    },
    "polyglot_notebook": {
     "kernelName": "pwsh"
    }
   },
   "source": [
    "## 2. Umwandlung der KB Nummer\n",
    "- FÜr das Programm wusa.exe muss die Nummer des Updates eingegeben werden\n",
    "- Das vorstehende KB muss entfernt werden\n",
    "- Der Befehlt übernommen aus der Variable installiertesUpdate nur den Wert \"HotfixID\"\n",
    "- Anschließend wird das enthaltene \"KB\" durch nichts ersetzt, dadurch bleibt nur die Patchnummer erhalten"
   ]
  },
  {
   "cell_type": "code",
   "execution_count": 8,
   "metadata": {
    "dotnet_interactive": {
     "language": "pwsh"
    },
    "polyglot_notebook": {
     "kernelName": "pwsh"
    },
    "vscode": {
     "languageId": "polyglot-notebook"
    }
   },
   "outputs": [
    {
     "name": "stdout",
     "output_type": "stream",
     "text": [
      "5020880\r\n"
     ]
    }
   ],
   "source": [
    "$KB = $installiertesUpdate.HotFixID -replace \"KB\"\n",
    "$KB"
   ]
  },
  {
   "attachments": {},
   "cell_type": "markdown",
   "metadata": {
    "dotnet_interactive": {
     "language": "pwsh"
    },
    "polyglot_notebook": {
     "kernelName": "pwsh"
    }
   },
   "source": [
    "## 3. Logische Prüfung und Deinstallation\n",
    "- Zuerst wird geprüft ob die Variable \"installiertesUpdate\" leer ist\n",
    "- Sollte sie leer sein, ist keines der o.g. Updates installiert und das Script wird beenden\n",
    "- Sollte sie nicht leer sein, also ein Update installiert sein:\n",
    "    1. wird eine Meldung angezeigt\n",
    "    2. wird das Programm wusa.exe gestartet und die passende Update Nummer aus 2. übergeben\n",
    "- Anschließend wird von wusa gefragt ob das Update deinstalliert werden darf\n",
    "- Abschließend kann der Host sofort neu gestartet werden oder der Neustart wird auf später verschoben, dann muss dieser manuell hinterlegt werden"
   ]
  },
  {
   "cell_type": "code",
   "execution_count": 9,
   "metadata": {
    "dotnet_interactive": {
     "language": "pwsh"
    },
    "polyglot_notebook": {
     "kernelName": "pwsh"
    },
    "vscode": {
     "languageId": "polyglot-notebook"
    }
   },
   "outputs": [
    {
     "name": "stdout",
     "output_type": "stream",
     "text": [
      "\u001b[91mUpdate  KB5020880  ist installiert.\u001b[0m\r\n"
     ]
    }
   ],
   "source": [
    "if (!$installiertesUpdate) {\n",
    "    Write-Host \"Update ist nicht installiert\" -ForegroundColor Green \n",
    "}\n",
    "else {\n",
    "    Write-Host \"Update \"$installiertesUpdate.HotFixID\" ist installiert.\" -ForegroundColor Red\n",
    "    wusa.exe /uninstall /kb:$kb\n",
    "}"
   ]
  },
  {
   "attachments": {},
   "cell_type": "markdown",
   "metadata": {
    "dotnet_interactive": {
     "language": "pwsh"
    },
    "polyglot_notebook": {
     "kernelName": "pwsh"
    }
   },
   "source": [
    "## Zu 0.\n",
    "- Zum Ende des Scriptes muss die Aufzeichnung gestoppt werden"
   ]
  },
  {
   "cell_type": "code",
   "execution_count": 10,
   "metadata": {
    "dotnet_interactive": {
     "language": "pwsh"
    },
    "polyglot_notebook": {
     "kernelName": "pwsh"
    },
    "vscode": {
     "languageId": "polyglot-notebook"
    }
   },
   "outputs": [
    {
     "name": "stdout",
     "output_type": "stream",
     "text": [
      "Transcript stopped, output file is C:\\TEMP\\UpdateDeinstallation.log\r\n"
     ]
    }
   ],
   "source": [
    "Stop-Transcript"
   ]
  }
 ],
 "metadata": {
  "kernelspec": {
   "display_name": ".NET (C#)",
   "language": "C#",
   "name": ".net-csharp"
  },
  "polyglot_notebook": {
   "kernelInfo": {
    "defaultKernelName": "csharp",
    "items": [
     {
      "aliases": [],
      "name": "csharp"
     }
    ]
   }
  }
 },
 "nbformat": 4,
 "nbformat_minor": 2
}

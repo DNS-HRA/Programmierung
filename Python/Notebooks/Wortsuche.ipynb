{
 "cells": [
  {
   "cell_type": "markdown",
   "metadata": {},
   "source": [
    "# Wortsuche\n",
    "- Eine Wortsuche ist ein Gitternetz von Buchstaben, indem entlang von Zeilen, Spalten und Diagonalen Wörter versteckt werden\n",
    "- Ziel: Alle versteckten Wörter zu finden\n",
    "- Variablen: Wörter\n",
    "- Domänen: Mögliche Orte dieser Wörter\n",
    "- keine Überschneidenen Wörter\n",
    "- Ähnlich zu Labyrinth Lösungen\n",
    "- Gitternetz wird am Anfang mit Buchstaben gefüllt\n",
    "- Eine Funktion zum Anzeigen des Gitternetzes wird benötigt"
   ]
  },
  {
   "cell_type": "code",
   "execution_count": null,
   "metadata": {},
   "outputs": [],
   "source": [
    "from typing import NamedTuple, List, Dict, Optional\n",
    "from random import choice\n",
    "from string import ascii_uppercase\n",
    "from csp import CSP, Constraint\n",
    "Grid = List[List[str]] # Alias für Gitternetze\n",
    "class GridLocation(NamedTuple):\n",
    "    row: int\n",
    "    column: int\n",
    "    def generate_grid(rows: int, columns: int) -> Grid:\n",
    "        # Gitternetz mit zufälligen Buchstaben initialisieren\n",
    "        return [[choice(ascii_uppercase) for c in range(columns)]\n",
    "        for r in range(rows)]\n",
    "    def display_grid(grid: Grid ) -> None:\n",
    "        for row in grid:\n",
    "            print(\"\".join(row))\n",
    "    def generate_domain(word: str, grid: Grid) -> List[List[GridLocation]]:\n",
    "        domain: List[List[GridLocation]] = []\n",
    "        height: int = len(grid)\n",
    "        width: int =len(grid[0])\n",
    "        lenght: int = len(word)\n",
    "        for row in range(height):\n",
    "            for col in range(width):\n",
    "                columns: range = range(col, col + lenght +1)\n",
    "                rows: range = range(row, row + lenght +1)\n",
    "                if col + lenght <= width:\n",
    "                    domain.append([GridLocation(row, c) for c in columns])\n",
    "                if row + lenght <= height:\n",
    "                    domain.append([GridLocation(r, col + (r - row)) for r in rows])\n",
    "            if row + lenght <= height:\n",
    "                domain.append([GridLocation(r, col) for r in rows])\n",
    "            if col - lenght <= 0:\n",
    "                domain.append([GridLocation(r, col - (r - row)) for r in rows])"
   ]
  }
 ],
 "metadata": {
  "language_info": {
   "name": "python"
  },
  "orig_nbformat": 4
 },
 "nbformat": 4,
 "nbformat_minor": 2
}
